{
 "cells": [
  {
   "cell_type": "code",
   "execution_count": 1,
   "metadata": {},
   "outputs": [],
   "source": [
    "import json"
   ]
  },
  {
   "cell_type": "code",
   "execution_count": 2,
   "metadata": {},
   "outputs": [],
   "source": [
    "metadata = json.load(open('instagram-images.json'))\n",
    "mturk_results = json.load(open('mturk-results.json'))"
   ]
  },
  {
   "cell_type": "code",
   "execution_count": 3,
   "metadata": {},
   "outputs": [],
   "source": [
    "prediction_files = ['predictions/AWS-Rekognition.json',\n",
    "                    'predictions/Clarifai.json',\n",
    "                    'predictions/Google-Cloud-Vision.json',\n",
    "                    'predictions/Mobius-Labs.json'] "
   ]
  },
  {
   "cell_type": "code",
   "execution_count": 4,
   "metadata": {},
   "outputs": [
    {
     "name": "stdout",
     "output_type": "stream",
     "text": [
      "skipping unicode concept 'fête' for image 1848089575245540899\n",
      "skipping unicode concept 'fête' for image 1848089554164934063\n",
      "skipping unicode concept 'château' for image 1847964988017179597\n"
     ]
    }
   ],
   "source": [
    "results = dict()\n",
    "for file_path in prediction_files:\n",
    "    predictions = json.load(open(file_path))\n",
    "    name = file_path.split('/')[-1].replace('.json','')    \n",
    "    results[name] = {'true_postive':0,\n",
    "                    'false_positve':0,\n",
    "                    'total':0,\n",
    "                    'unique_concepts':set()}\n",
    "    for photo_id, concepts in predictions.items():\n",
    "        for concept in concepts:\n",
    "            if concept != concept.encode('ascii', 'ignore'):\n",
    "                print u'skipping unicode concept \\'{}\\' for image {}'.format(concept, photo_id)\n",
    "                continue\n",
    "            if concept in mturk_results[photo_id]['correct']:\n",
    "                results[name]['true_postive'] +=1\n",
    "                results[name]['total'] +=1                \n",
    "                results[name]['unique_concepts'].add(concept)\n",
    "            elif concept in mturk_results[photo_id]['incorrect']:\n",
    "                results[name]['false_positve'] +=1\n",
    "                results[name]['total'] +=1  \n",
    "                results[name]['unique_concepts'].add(concept)                \n",
    "            else:\n",
    "                raise ValueError('Found concept {} for {} for which don\\'t have mturk data'.format(concept, photo_id))"
   ]
  },
  {
   "cell_type": "code",
   "execution_count": 5,
   "metadata": {},
   "outputs": [
    {
     "name": "stdout",
     "output_type": "stream",
     "text": [
      "Name             Labels/Image   Precision   Unique Concepts\n",
      "AWS Rekognition         13.80        0.81              1026\n",
      "Clarifai                20.00        0.84              1467\n",
      "Google Cloud Vision      8.70        0.92              1140\n",
      "Mobius Labs             16.30        0.92              1018\n"
     ]
    }
   ],
   "source": [
    "print 'Name             Labels/Image   Precision   Unique Concepts'\n",
    "for name in sorted(results.keys()):\n",
    "    pretty_name = name.replace('-', ' ')\n",
    "    numbers = results[name]\n",
    "    labels_per_image = round(numbers['total']/float(len(metadata)), 1)\n",
    "    precision = round(numbers['true_postive']/float((numbers['total'])),3)\n",
    "    unique_labels = len(numbers['unique_concepts'])\n",
    "    print \"{:21}{: 8.2f}{: 12.2f}{: 18d}\".format(pretty_name, labels_per_image, precision, unique_labels)"
   ]
  },
  {
   "cell_type": "code",
   "execution_count": null,
   "metadata": {},
   "outputs": [],
   "source": []
  }
 ],
 "metadata": {
  "kernelspec": {
   "display_name": "Python 2",
   "language": "python",
   "name": "python2"
  },
  "language_info": {
   "codemirror_mode": {
    "name": "ipython",
    "version": 2
   },
   "file_extension": ".py",
   "mimetype": "text/x-python",
   "name": "python",
   "nbconvert_exporter": "python",
   "pygments_lexer": "ipython2",
   "version": "2.7.12"
  }
 },
 "nbformat": 4,
 "nbformat_minor": 2
}
