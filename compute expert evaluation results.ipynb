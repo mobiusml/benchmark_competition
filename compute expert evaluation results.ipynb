{
 "cells": [
  {
   "cell_type": "code",
   "execution_count": 24,
   "metadata": {},
   "outputs": [],
   "source": [
    "import json"
   ]
  },
  {
   "cell_type": "code",
   "execution_count": 25,
   "metadata": {},
   "outputs": [],
   "source": [
    "expert_decisions = json.load(open('expert-decisions.json'))"
   ]
  },
  {
   "cell_type": "code",
   "execution_count": 26,
   "metadata": {},
   "outputs": [],
   "source": [
    "results = dict()\n",
    "for name, decisions in expert_decisions.items():\n",
    "    n_acceptable = sum([decision == 'acceptable' for \n",
    "                        photo_id, decision in decisions.items()])\n",
    "    n_total = len(decisions)\n",
    "    results[name] = n_acceptable / float(n_total)"
   ]
  },
  {
   "cell_type": "code",
   "execution_count": 27,
   "metadata": {},
   "outputs": [
    {
     "name": "stdout",
     "output_type": "stream",
     "text": [
      "Name              Acceptance Ratio\n",
      "AWS Rekognition               0.34\n",
      "Clarifai                      0.40\n",
      "Google Cloud Vision           0.47\n",
      "Mobius Labs                   0.80\n"
     ]
    }
   ],
   "source": [
    "print 'Name              Acceptance Ratio'\n",
    "for name in sorted(results.keys()):\n",
    "    pretty_name = name.replace('-', ' ')    \n",
    "    acceptance_ratio = results[name]\n",
    "    print \"{:21}{: 13.2f}\".format(pretty_name, acceptance_ratio)"
   ]
  },
  {
   "cell_type": "code",
   "execution_count": null,
   "metadata": {},
   "outputs": [],
   "source": []
  }
 ],
 "metadata": {
  "kernelspec": {
   "display_name": "Python 2",
   "language": "python",
   "name": "python2"
  },
  "language_info": {
   "codemirror_mode": {
    "name": "ipython",
    "version": 2
   },
   "file_extension": ".py",
   "mimetype": "text/x-python",
   "name": "python",
   "nbconvert_exporter": "python",
   "pygments_lexer": "ipython2",
   "version": "2.7.12"
  }
 },
 "nbformat": 4,
 "nbformat_minor": 2
}
